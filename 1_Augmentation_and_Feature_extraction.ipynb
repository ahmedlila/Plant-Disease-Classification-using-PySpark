{
  "cells": [
    {
      "cell_type": "markdown",
      "metadata": {
        "id": "CjW94paTwJvs"
      },
      "source": [
        "### <font color='green'> Import Libraries Needed </font>"
      ]
    },
    {
      "cell_type": "code",
      "execution_count": null,
      "metadata": {
        "id": "K73AEk4TwJvu"
      },
      "outputs": [],
      "source": [
        "import tensorflow as tf\n",
        "import numpy as np \n",
        "import cv2\n",
        "import os \n",
        "import pandas as pd \n",
        "import copy "
      ]
    },
    {
      "cell_type": "markdown",
      "metadata": {
        "id": "diQPJp43wJvv"
      },
      "source": [
        "### <font color='green'> Data Augmentation"
      ]
    },
    {
      "cell_type": "code",
      "execution_count": null,
      "metadata": {
        "id": "t6WHVyOowJvv"
      },
      "outputs": [],
      "source": [
        "def data_aug(img, n:int=3)->list:\n",
        "    \"\"\"\n",
        "    Augment input image to n images with different filters effects.\n",
        "    \n",
        "    Arguments:\n",
        "    img -- NumPy array, input image to edit on.\n",
        "    n -- integer, required number of output images from filters.\n",
        "    \n",
        "    Returns: \n",
        "    data -- list, contains the images augmented using different filters.\n",
        "    \"\"\"\n",
        "    data = []\n",
        "    for _ in range(3):\n",
        "        img = tf.image.stateless_random_brightness(img, max_delta=0.02, seed=(1,2))\n",
        "        img = tf.image.stateless_random_contrast(img, lower=0.6, upper=1, seed=(1,3))\n",
        "        img = tf.image.stateless_random_flip_left_right(img, seed=(np.random.randint(100),np.random.randint(100)))\n",
        "        img = tf.image.stateless_random_jpeg_quality(img, min_jpeg_quality=90, max_jpeg_quality=100, seed=(np.random.randint(100),np.random.randint(100)))\n",
        "        img = tf.image.stateless_random_saturation(img, lower=0.9,upper=1, seed=(np.random.randint(100),np.random.randint(100)))\n",
        "        data.append(img)\n",
        "    return data"
      ]
    },
    {
      "cell_type": "code",
      "execution_count": null,
      "metadata": {
        "id": "51VVXn9QwJvv"
      },
      "outputs": [],
      "source": [
        "folder_path = 'data/train_all_augmented'\n",
        "img_names = os.listdir(folder_path)\n",
        "\n",
        "for img_name in img_names:\n",
        "    name = img_name.split('.')[0]\n",
        "    img_path = os.path.join(folder_path,img_name)\n",
        "    img = cv2.imread(img_path)\n",
        "    if img is None: continue\n",
        "    augmented_imgs = data_aug(img)\n",
        "    for i, aug_img in enumerate(augmented_imgs):\n",
        "        output_img = aug_img.numpy()\n",
        "        cv2.imwrite('data/augmented/'+f\"{name}_{i+2}.JPG\", output_img) "
      ]
    },
    {
      "cell_type": "code",
      "execution_count": null,
      "metadata": {
        "id": "Xx-uSFfAwJvw",
        "outputId": "4aa93411-3f8c-4f1e-d40d-093f6c9df5f8"
      },
      "outputs": [
        {
          "data": {
            "text/html": [
              "<div>\n",
              "<style scoped>\n",
              "    .dataframe tbody tr th:only-of-type {\n",
              "        vertical-align: middle;\n",
              "    }\n",
              "\n",
              "    .dataframe tbody tr th {\n",
              "        vertical-align: top;\n",
              "    }\n",
              "\n",
              "    .dataframe thead th {\n",
              "        text-align: right;\n",
              "    }\n",
              "</style>\n",
              "<table border=\"1\" class=\"dataframe\">\n",
              "  <thead>\n",
              "    <tr style=\"text-align: right;\">\n",
              "      <th></th>\n",
              "      <th>images</th>\n",
              "      <th>label</th>\n",
              "    </tr>\n",
              "  </thead>\n",
              "  <tbody>\n",
              "    <tr>\n",
              "      <th>0</th>\n",
              "      <td>00075aa8-d81a-4184-8541-b692b78d398a___FREC_Sc...</td>\n",
              "      <td>Apple___Apple_scab</td>\n",
              "    </tr>\n",
              "    <tr>\n",
              "      <th>1</th>\n",
              "      <td>01a66316-0e98-4d3b-a56f-d78752cd043f___FREC_Sc...</td>\n",
              "      <td>Apple___Apple_scab</td>\n",
              "    </tr>\n",
              "    <tr>\n",
              "      <th>2</th>\n",
              "      <td>01a66316-0e98-4d3b-a56f-d78752cd043f___FREC_Sc...</td>\n",
              "      <td>Apple___Apple_scab</td>\n",
              "    </tr>\n",
              "    <tr>\n",
              "      <th>3</th>\n",
              "      <td>01a66316-0e98-4d3b-a56f-d78752cd043f___FREC_Sc...</td>\n",
              "      <td>Apple___Apple_scab</td>\n",
              "    </tr>\n",
              "    <tr>\n",
              "      <th>4</th>\n",
              "      <td>01a66316-0e98-4d3b-a56f-d78752cd043f___FREC_Sc...</td>\n",
              "      <td>Apple___Apple_scab</td>\n",
              "    </tr>\n",
              "    <tr>\n",
              "      <th>...</th>\n",
              "      <td>...</td>\n",
              "      <td>...</td>\n",
              "    </tr>\n",
              "    <tr>\n",
              "      <th>1956</th>\n",
              "      <td>ffb295c9-f14e-4a15-831a-bf905da7fcb6___UF.GRC_...</td>\n",
              "      <td>Tomato___Tomato_Yellow_Leaf_Curl_Virus</td>\n",
              "    </tr>\n",
              "    <tr>\n",
              "      <th>1957</th>\n",
              "      <td>ffe08ccc-c55e-4ca2-9234-2906b98b8d05___YLCV_NR...</td>\n",
              "      <td>Tomato___Tomato_Yellow_Leaf_Curl_Virus</td>\n",
              "    </tr>\n",
              "    <tr>\n",
              "      <th>1958</th>\n",
              "      <td>ffe996e5-c8dc-47b7-bca2-4fc25e5ac57c___UF.GRC_...</td>\n",
              "      <td>Tomato___Tomato_Yellow_Leaf_Curl_Virus</td>\n",
              "    </tr>\n",
              "    <tr>\n",
              "      <th>1959</th>\n",
              "      <td>fff42f1b-7ec4-46e3-9269-45932e63635e___YLCV_GC...</td>\n",
              "      <td>Tomato___Tomato_Yellow_Leaf_Curl_Virus</td>\n",
              "    </tr>\n",
              "    <tr>\n",
              "      <th>1960</th>\n",
              "      <td>fff6bf83-797c-4de4-83f7-39b74786fec4___UF.GRC_...</td>\n",
              "      <td>Tomato___Tomato_Yellow_Leaf_Curl_Virus</td>\n",
              "    </tr>\n",
              "  </tbody>\n",
              "</table>\n",
              "<p>140590 rows × 2 columns</p>\n",
              "</div>"
            ],
            "text/plain": [
              "                                                 images  \\\n",
              "0     00075aa8-d81a-4184-8541-b692b78d398a___FREC_Sc...   \n",
              "1     01a66316-0e98-4d3b-a56f-d78752cd043f___FREC_Sc...   \n",
              "2     01a66316-0e98-4d3b-a56f-d78752cd043f___FREC_Sc...   \n",
              "3     01a66316-0e98-4d3b-a56f-d78752cd043f___FREC_Sc...   \n",
              "4     01a66316-0e98-4d3b-a56f-d78752cd043f___FREC_Sc...   \n",
              "...                                                 ...   \n",
              "1956  ffb295c9-f14e-4a15-831a-bf905da7fcb6___UF.GRC_...   \n",
              "1957  ffe08ccc-c55e-4ca2-9234-2906b98b8d05___YLCV_NR...   \n",
              "1958  ffe996e5-c8dc-47b7-bca2-4fc25e5ac57c___UF.GRC_...   \n",
              "1959  fff42f1b-7ec4-46e3-9269-45932e63635e___YLCV_GC...   \n",
              "1960  fff6bf83-797c-4de4-83f7-39b74786fec4___UF.GRC_...   \n",
              "\n",
              "                                       label  \n",
              "0                         Apple___Apple_scab  \n",
              "1                         Apple___Apple_scab  \n",
              "2                         Apple___Apple_scab  \n",
              "3                         Apple___Apple_scab  \n",
              "4                         Apple___Apple_scab  \n",
              "...                                      ...  \n",
              "1956  Tomato___Tomato_Yellow_Leaf_Curl_Virus  \n",
              "1957  Tomato___Tomato_Yellow_Leaf_Curl_Virus  \n",
              "1958  Tomato___Tomato_Yellow_Leaf_Curl_Virus  \n",
              "1959  Tomato___Tomato_Yellow_Leaf_Curl_Virus  \n",
              "1960  Tomato___Tomato_Yellow_Leaf_Curl_Virus  \n",
              "\n",
              "[140590 rows x 2 columns]"
            ]
          },
          "execution_count": 18,
          "metadata": {},
          "output_type": "execute_result"
        }
      ],
      "source": [
        "# copying images names and duplicateing twice\n",
        "my_image_directory = 'D://Big Data Project//data//augmented//'\n",
        "my_csv = 'data_aug.csv'\n",
        "merged_df = pd.DataFrame(columns=['images', 'label'])\n",
        "df = pd.read_csv('data.csv', index_col=0)\n",
        "df2 = copy.deepcopy(df)\n",
        "df3 = copy.deepcopy(df)\n",
        "df2['images'] = df2['images'].str.replace('.JPG', '_2.JPG')\n",
        "df3['images'] = df3['images'].str.replace('.JPG', '_3.JPG')\n",
        "merged_df = pd.concat([df2, df3])\n",
        "merged_df"
      ]
    },
    {
      "cell_type": "code",
      "execution_count": null,
      "metadata": {
        "id": "Au9eurRZwJvw"
      },
      "outputs": [],
      "source": [
        "# testing \n",
        "merged_df.to_csv(my_csv)"
      ]
    },
    {
      "cell_type": "code",
      "execution_count": null,
      "metadata": {
        "id": "2fGsLrSFwJvw",
        "outputId": "70268956-f8dd-46c9-fa8d-454744e5c86d"
      },
      "outputs": [
        {
          "data": {
            "text/plain": [
              "'00075aa8-d81a-4184-8541-b692b78d398a___FREC_Scab 3335_2.JPG'"
            ]
          },
          "execution_count": 19,
          "metadata": {},
          "output_type": "execute_result"
        }
      ],
      "source": [
        "# Testing\n",
        "merged_df.iloc[0]['images']"
      ]
    },
    {
      "cell_type": "markdown",
      "metadata": {
        "id": "FmRWyOnQwJvx"
      },
      "source": [
        "### <font color='green'> Train on large Data"
      ]
    },
    {
      "cell_type": "code",
      "execution_count": null,
      "metadata": {
        "id": "0VOHEyC0wJvx",
        "outputId": "98a9b7ed-c45c-4adf-cfa9-81a86f521a49"
      },
      "outputs": [
        {
          "name": "stderr",
          "output_type": "stream",
          "text": [
            "WARNING:root:Automatic downsampling to 512. If you would like to set custom downsampling, pass in an integer divisor of 1024 to num_pooled_features.\n",
            "INFO:pic2vec.image_featurizer:Loading image batch.\n",
            "INFO:pic2vec.image_featurizer:\n",
            "Featurizing image batch.\n"
          ]
        },
        {
          "name": "stdout",
          "output_type": "stream",
          "text": [
            "1000/1000 [==============================] - 309s 309ms/step\n"
          ]
        },
        {
          "name": "stderr",
          "output_type": "stream",
          "text": [
            "INFO:pic2vec.image_featurizer:Featurized batch #1. Number of images left: 139590\n",
            "Estimated total time left: 45686 seconds\n",
            "\n",
            "INFO:pic2vec.image_featurizer:Loading image batch.\n",
            "INFO:pic2vec.image_featurizer:\n",
            "Featurizing image batch.\n"
          ]
        },
        {
          "name": "stdout",
          "output_type": "stream",
          "text": [
            "1000/1000 [==============================] - 325s 325ms/step\n"
          ]
        },
        {
          "name": "stderr",
          "output_type": "stream",
          "text": [
            "INFO:pic2vec.image_featurizer:Featurized batch #2. Number of images left: 138590\n",
            "Estimated total time left: 47073 seconds\n",
            "\n",
            "INFO:pic2vec.image_featurizer:Loading image batch.\n",
            "INFO:pic2vec.image_featurizer:\n",
            "Featurizing image batch.\n"
          ]
        },
        {
          "name": "stdout",
          "output_type": "stream",
          "text": [
            "1000/1000 [==============================] - 312s 312ms/step\n"
          ]
        },
        {
          "name": "stderr",
          "output_type": "stream",
          "text": [
            "INFO:pic2vec.image_featurizer:Featurized batch #3. Number of images left: 137590\n",
            "Estimated total time left: 43952 seconds\n",
            "\n",
            "INFO:pic2vec.image_featurizer:Loading image batch.\n",
            "INFO:pic2vec.image_featurizer:\n",
            "Featurizing image batch.\n"
          ]
        },
        {
          "name": "stdout",
          "output_type": "stream",
          "text": [
            "1000/1000 [==============================] - 310s 310ms/step\n"
          ]
        },
        {
          "name": "stderr",
          "output_type": "stream",
          "text": [
            "INFO:pic2vec.image_featurizer:Featurized batch #4. Number of images left: 136590\n",
            "Estimated total time left: 42500 seconds\n",
            "\n",
            "INFO:pic2vec.image_featurizer:Loading image batch.\n",
            "INFO:pic2vec.image_featurizer:\n",
            "Featurizing image batch.\n"
          ]
        },
        {
          "name": "stdout",
          "output_type": "stream",
          "text": [
            "1000/1000 [==============================] - 309s 309ms/step\n"
          ]
        },
        {
          "name": "stderr",
          "output_type": "stream",
          "text": [
            "INFO:pic2vec.image_featurizer:Featurized batch #5. Number of images left: 135590\n",
            "Estimated total time left: 42091 seconds\n",
            "\n",
            "INFO:pic2vec.image_featurizer:Loading image batch.\n",
            "INFO:pic2vec.image_featurizer:\n",
            "Featurizing image batch.\n"
          ]
        },
        {
          "name": "stdout",
          "output_type": "stream",
          "text": [
            "1000/1000 [==============================] - 310s 310ms/step\n"
          ]
        },
        {
          "name": "stderr",
          "output_type": "stream",
          "text": [
            "INFO:pic2vec.image_featurizer:Featurized batch #6. Number of images left: 134590\n",
            "Estimated total time left: 42501 seconds\n",
            "\n",
            "INFO:pic2vec.image_featurizer:Loading image batch.\n",
            "INFO:pic2vec.image_featurizer:\n",
            "Featurizing image batch.\n"
          ]
        },
        {
          "name": "stdout",
          "output_type": "stream",
          "text": [
            "1000/1000 [==============================] - 312s 312ms/step\n"
          ]
        },
        {
          "name": "stderr",
          "output_type": "stream",
          "text": [
            "INFO:pic2vec.image_featurizer:Featurized batch #7. Number of images left: 133590\n",
            "Estimated total time left: 43973 seconds\n",
            "\n",
            "INFO:pic2vec.image_featurizer:Loading image batch.\n",
            "INFO:pic2vec.image_featurizer:\n",
            "Featurizing image batch.\n"
          ]
        },
        {
          "name": "stdout",
          "output_type": "stream",
          "text": [
            "1000/1000 [==============================] - 344s 344ms/step\n"
          ]
        },
        {
          "name": "stderr",
          "output_type": "stream",
          "text": [
            "INFO:pic2vec.image_featurizer:Featurized batch #8. Number of images left: 132590\n",
            "Estimated total time left: 47711 seconds\n",
            "\n",
            "INFO:pic2vec.image_featurizer:Loading image batch.\n",
            "INFO:pic2vec.image_featurizer:\n",
            "Featurizing image batch.\n"
          ]
        },
        {
          "name": "stdout",
          "output_type": "stream",
          "text": [
            "1000/1000 [==============================] - 339s 339ms/step\n"
          ]
        },
        {
          "name": "stderr",
          "output_type": "stream",
          "text": [
            "INFO:pic2vec.image_featurizer:Featurized batch #9. Number of images left: 131590\n",
            "Estimated total time left: 46655 seconds\n",
            "\n",
            "INFO:pic2vec.image_featurizer:Loading image batch.\n",
            "INFO:pic2vec.image_featurizer:\n",
            "Featurizing image batch.\n"
          ]
        },
        {
          "name": "stdout",
          "output_type": "stream",
          "text": [
            "1000/1000 [==============================] - 350s 350ms/step\n"
          ]
        },
        {
          "name": "stderr",
          "output_type": "stream",
          "text": [
            "INFO:pic2vec.image_featurizer:Featurized batch #10. Number of images left: 130590\n",
            "Estimated total time left: 48408 seconds\n",
            "\n",
            "INFO:pic2vec.image_featurizer:Loading image batch.\n",
            "INFO:pic2vec.image_featurizer:\n",
            "Featurizing image batch.\n"
          ]
        },
        {
          "name": "stdout",
          "output_type": "stream",
          "text": [
            "1000/1000 [==============================] - 365s 365ms/step\n"
          ]
        },
        {
          "name": "stderr",
          "output_type": "stream",
          "text": [
            "INFO:pic2vec.image_featurizer:Featurized batch #11. Number of images left: 129590\n",
            "Estimated total time left: 49573 seconds\n",
            "\n",
            "INFO:pic2vec.image_featurizer:Loading image batch.\n",
            "INFO:pic2vec.image_featurizer:\n",
            "Featurizing image batch.\n"
          ]
        },
        {
          "name": "stdout",
          "output_type": "stream",
          "text": [
            "1000/1000 [==============================] - 360s 360ms/step\n"
          ]
        },
        {
          "name": "stderr",
          "output_type": "stream",
          "text": [
            "INFO:pic2vec.image_featurizer:Featurized batch #12. Number of images left: 128590\n",
            "Estimated total time left: 47117 seconds\n",
            "\n",
            "INFO:pic2vec.image_featurizer:Loading image batch.\n",
            "INFO:pic2vec.image_featurizer:\n",
            "Featurizing image batch.\n"
          ]
        },
        {
          "name": "stdout",
          "output_type": "stream",
          "text": [
            "1000/1000 [==============================] - 348s 348ms/step\n"
          ]
        },
        {
          "name": "stderr",
          "output_type": "stream",
          "text": [
            "INFO:pic2vec.image_featurizer:Featurized batch #13. Number of images left: 127590\n",
            "Estimated total time left: 44522 seconds\n",
            "\n",
            "INFO:pic2vec.image_featurizer:Loading image batch.\n",
            "INFO:pic2vec.image_featurizer:\n",
            "Featurizing image batch.\n"
          ]
        },
        {
          "name": "stdout",
          "output_type": "stream",
          "text": [
            "1000/1000 [==============================] - 365s 365ms/step\n"
          ]
        },
        {
          "name": "stderr",
          "output_type": "stream",
          "text": [
            "INFO:pic2vec.image_featurizer:Featurized batch #14. Number of images left: 126590\n",
            "Estimated total time left: 48290 seconds\n",
            "\n",
            "INFO:pic2vec.image_featurizer:Loading image batch.\n",
            "INFO:pic2vec.image_featurizer:\n",
            "Featurizing image batch.\n"
          ]
        },
        {
          "name": "stdout",
          "output_type": "stream",
          "text": [
            "1000/1000 [==============================] - 349s 349ms/step\n"
          ]
        },
        {
          "name": "stderr",
          "output_type": "stream",
          "text": [
            "INFO:pic2vec.image_featurizer:Featurized batch #15. Number of images left: 125590\n",
            "Estimated total time left: 45193 seconds\n",
            "\n",
            "INFO:pic2vec.image_featurizer:Loading image batch.\n",
            "INFO:pic2vec.image_featurizer:\n",
            "Featurizing image batch.\n"
          ]
        },
        {
          "name": "stdout",
          "output_type": "stream",
          "text": [
            "1000/1000 [==============================] - 333s 333ms/step\n"
          ]
        },
        {
          "name": "stderr",
          "output_type": "stream",
          "text": [
            "INFO:pic2vec.image_featurizer:Featurized batch #16. Number of images left: 124590\n",
            "Estimated total time left: 42508 seconds\n",
            "\n",
            "INFO:pic2vec.image_featurizer:Loading image batch.\n",
            "INFO:pic2vec.image_featurizer:\n",
            "Featurizing image batch.\n"
          ]
        },
        {
          "name": "stdout",
          "output_type": "stream",
          "text": [
            "1000/1000 [==============================] - 349s 349ms/step\n"
          ]
        },
        {
          "name": "stderr",
          "output_type": "stream",
          "text": [
            "INFO:pic2vec.image_featurizer:Featurized batch #17. Number of images left: 123590\n",
            "Estimated total time left: 43488 seconds\n",
            "\n",
            "INFO:pic2vec.image_featurizer:Loading image batch.\n",
            "INFO:pic2vec.image_featurizer:\n",
            "Featurizing image batch.\n"
          ]
        },
        {
          "name": "stdout",
          "output_type": "stream",
          "text": [
            "1000/1000 [==============================] - 338s 338ms/step\n"
          ]
        },
        {
          "name": "stderr",
          "output_type": "stream",
          "text": [
            "INFO:pic2vec.image_featurizer:Featurized batch #18. Number of images left: 122590\n",
            "Estimated total time left: 41539 seconds\n",
            "\n",
            "INFO:pic2vec.image_featurizer:Loading image batch.\n",
            "INFO:pic2vec.image_featurizer:\n",
            "Featurizing image batch.\n"
          ]
        },
        {
          "name": "stdout",
          "output_type": "stream",
          "text": [
            "1000/1000 [==============================] - 330s 330ms/step\n"
          ]
        },
        {
          "name": "stderr",
          "output_type": "stream",
          "text": [
            "INFO:pic2vec.image_featurizer:Featurized batch #19. Number of images left: 121590\n",
            "Estimated total time left: 41246 seconds\n",
            "\n",
            "INFO:pic2vec.image_featurizer:Loading image batch.\n",
            "INFO:pic2vec.image_featurizer:\n",
            "Featurizing image batch.\n"
          ]
        },
        {
          "name": "stdout",
          "output_type": "stream",
          "text": [
            "1000/1000 [==============================] - 333s 333ms/step\n"
          ]
        },
        {
          "name": "stderr",
          "output_type": "stream",
          "text": [
            "INFO:pic2vec.image_featurizer:Featurized batch #20. Number of images left: 120590\n",
            "Estimated total time left: 42046 seconds\n",
            "\n",
            "INFO:pic2vec.image_featurizer:Loading image batch.\n",
            "INFO:pic2vec.image_featurizer:\n",
            "Featurizing image batch.\n"
          ]
        },
        {
          "name": "stdout",
          "output_type": "stream",
          "text": [
            "1000/1000 [==============================] - 341s 341ms/step\n"
          ]
        },
        {
          "name": "stderr",
          "output_type": "stream",
          "text": [
            "INFO:pic2vec.image_featurizer:Featurized batch #21. Number of images left: 119590\n",
            "Estimated total time left: 41293 seconds\n",
            "\n",
            "INFO:pic2vec.image_featurizer:Loading image batch.\n",
            "INFO:pic2vec.image_featurizer:\n",
            "Featurizing image batch.\n"
          ]
        },
        {
          "name": "stdout",
          "output_type": "stream",
          "text": [
            "1000/1000 [==============================] - 332s 332ms/step\n"
          ]
        },
        {
          "name": "stderr",
          "output_type": "stream",
          "text": [
            "INFO:pic2vec.image_featurizer:Featurized batch #22. Number of images left: 118590\n",
            "Estimated total time left: 39462 seconds\n",
            "\n",
            "INFO:pic2vec.image_featurizer:Loading image batch.\n",
            "INFO:pic2vec.image_featurizer:\n",
            "Featurizing image batch.\n"
          ]
        },
        {
          "name": "stdout",
          "output_type": "stream",
          "text": [
            "1000/1000 [==============================] - 319s 319ms/step\n"
          ]
        },
        {
          "name": "stderr",
          "output_type": "stream",
          "text": [
            "INFO:pic2vec.image_featurizer:Featurized batch #23. Number of images left: 117590\n",
            "Estimated total time left: 37568 seconds\n",
            "\n",
            "INFO:pic2vec.image_featurizer:Loading image batch.\n",
            "INFO:pic2vec.image_featurizer:\n",
            "Featurizing image batch.\n"
          ]
        },
        {
          "name": "stdout",
          "output_type": "stream",
          "text": [
            "1000/1000 [==============================] - 327s 327ms/step\n"
          ]
        },
        {
          "name": "stderr",
          "output_type": "stream",
          "text": [
            "INFO:pic2vec.image_featurizer:Featurized batch #24. Number of images left: 116590\n",
            "Estimated total time left: 38169 seconds\n",
            "\n",
            "INFO:pic2vec.image_featurizer:Loading image batch.\n",
            "INFO:pic2vec.image_featurizer:\n",
            "Featurizing image batch.\n"
          ]
        },
        {
          "name": "stdout",
          "output_type": "stream",
          "text": [
            "1000/1000 [==============================] - 324s 324ms/step\n"
          ]
        },
        {
          "name": "stderr",
          "output_type": "stream",
          "text": [
            "INFO:pic2vec.image_featurizer:Featurized batch #25. Number of images left: 115590\n",
            "Estimated total time left: 37532 seconds\n",
            "\n",
            "INFO:pic2vec.image_featurizer:Loading image batch.\n",
            "INFO:pic2vec.image_featurizer:\n",
            "Featurizing image batch.\n"
          ]
        },
        {
          "name": "stdout",
          "output_type": "stream",
          "text": [
            "1000/1000 [==============================] - 326s 326ms/step\n"
          ]
        },
        {
          "name": "stderr",
          "output_type": "stream",
          "text": [
            "INFO:pic2vec.image_featurizer:Featurized batch #26. Number of images left: 114590\n",
            "Estimated total time left: 37497 seconds\n",
            "\n",
            "INFO:pic2vec.image_featurizer:Loading image batch.\n",
            "INFO:pic2vec.image_featurizer:\n",
            "Featurizing image batch.\n"
          ]
        },
        {
          "name": "stdout",
          "output_type": "stream",
          "text": [
            "1000/1000 [==============================] - 354s 354ms/step\n"
          ]
        },
        {
          "name": "stderr",
          "output_type": "stream",
          "text": [
            "INFO:pic2vec.image_featurizer:Featurized batch #27. Number of images left: 113590\n",
            "Estimated total time left: 40298 seconds\n",
            "\n",
            "INFO:pic2vec.image_featurizer:Loading image batch.\n",
            "INFO:pic2vec.image_featurizer:\n",
            "Featurizing image batch.\n"
          ]
        },
        {
          "name": "stdout",
          "output_type": "stream",
          "text": [
            "1000/1000 [==============================] - 360s 360ms/step\n"
          ]
        },
        {
          "name": "stderr",
          "output_type": "stream",
          "text": [
            "INFO:pic2vec.image_featurizer:Featurized batch #28. Number of images left: 112590\n",
            "Estimated total time left: 41328 seconds\n",
            "\n",
            "INFO:pic2vec.image_featurizer:Loading image batch.\n",
            "INFO:pic2vec.image_featurizer:\n",
            "Featurizing image batch.\n"
          ]
        },
        {
          "name": "stdout",
          "output_type": "stream",
          "text": [
            "1000/1000 [==============================] - 325s 325ms/step\n"
          ]
        },
        {
          "name": "stderr",
          "output_type": "stream",
          "text": [
            "INFO:pic2vec.image_featurizer:Featurized batch #29. Number of images left: 111590\n",
            "Estimated total time left: 37459 seconds\n",
            "\n",
            "INFO:pic2vec.image_featurizer:Loading image batch.\n",
            "INFO:pic2vec.image_featurizer:\n",
            "Featurizing image batch.\n"
          ]
        },
        {
          "name": "stdout",
          "output_type": "stream",
          "text": [
            "1000/1000 [==============================] - 325s 325ms/step\n"
          ]
        },
        {
          "name": "stderr",
          "output_type": "stream",
          "text": [
            "INFO:pic2vec.image_featurizer:Featurized batch #30. Number of images left: 110590\n",
            "Estimated total time left: 36515 seconds\n",
            "\n",
            "INFO:pic2vec.image_featurizer:Loading image batch.\n",
            "INFO:pic2vec.image_featurizer:\n",
            "Featurizing image batch.\n"
          ]
        },
        {
          "name": "stdout",
          "output_type": "stream",
          "text": [
            "1000/1000 [==============================] - 315s 315ms/step\n"
          ]
        },
        {
          "name": "stderr",
          "output_type": "stream",
          "text": [
            "INFO:pic2vec.image_featurizer:Featurized batch #31. Number of images left: 109590\n",
            "Estimated total time left: 34550 seconds\n",
            "\n",
            "INFO:pic2vec.image_featurizer:Loading image batch.\n",
            "INFO:pic2vec.image_featurizer:\n",
            "Featurizing image batch.\n"
          ]
        },
        {
          "name": "stdout",
          "output_type": "stream",
          "text": [
            "1000/1000 [==============================] - 310s 310ms/step\n"
          ]
        },
        {
          "name": "stderr",
          "output_type": "stream",
          "text": [
            "INFO:pic2vec.image_featurizer:Featurized batch #32. Number of images left: 108590\n",
            "Estimated total time left: 33681 seconds\n",
            "\n",
            "INFO:pic2vec.image_featurizer:Loading image batch.\n",
            "INFO:pic2vec.image_featurizer:\n",
            "Featurizing image batch.\n"
          ]
        },
        {
          "name": "stdout",
          "output_type": "stream",
          "text": [
            "1000/1000 [==============================] - 343s 343ms/step\n"
          ]
        },
        {
          "name": "stderr",
          "output_type": "stream",
          "text": [
            "INFO:pic2vec.image_featurizer:Featurized batch #33. Number of images left: 107590\n",
            "Estimated total time left: 36933 seconds\n",
            "\n",
            "INFO:pic2vec.image_featurizer:Loading image batch.\n",
            "INFO:pic2vec.image_featurizer:\n",
            "Featurizing image batch.\n"
          ]
        },
        {
          "name": "stdout",
          "output_type": "stream",
          "text": [
            "1000/1000 [==============================] - 353s 353ms/step\n"
          ]
        },
        {
          "name": "stderr",
          "output_type": "stream",
          "text": [
            "INFO:pic2vec.image_featurizer:Featurized batch #34. Number of images left: 106590\n",
            "Estimated total time left: 37774 seconds\n",
            "\n",
            "INFO:pic2vec.image_featurizer:Loading image batch.\n",
            "INFO:pic2vec.image_featurizer:\n",
            "Featurizing image batch.\n"
          ]
        },
        {
          "name": "stdout",
          "output_type": "stream",
          "text": [
            "1000/1000 [==============================] - 370s 370ms/step\n"
          ]
        },
        {
          "name": "stderr",
          "output_type": "stream",
          "text": [
            "INFO:pic2vec.image_featurizer:Featurized batch #35. Number of images left: 105590\n",
            "Estimated total time left: 39244 seconds\n",
            "\n",
            "INFO:pic2vec.image_featurizer:Loading image batch.\n",
            "INFO:pic2vec.image_featurizer:\n",
            "Featurizing image batch.\n"
          ]
        },
        {
          "name": "stdout",
          "output_type": "stream",
          "text": [
            "1000/1000 [==============================] - 358s 358ms/step\n"
          ]
        },
        {
          "name": "stderr",
          "output_type": "stream",
          "text": [
            "INFO:pic2vec.image_featurizer:Featurized batch #36. Number of images left: 104590\n",
            "Estimated total time left: 39127 seconds\n",
            "\n",
            "INFO:pic2vec.image_featurizer:Loading image batch.\n",
            "INFO:pic2vec.image_featurizer:\n",
            "Featurizing image batch.\n"
          ]
        },
        {
          "name": "stdout",
          "output_type": "stream",
          "text": [
            "1000/1000 [==============================] - 350s 350ms/step\n"
          ]
        },
        {
          "name": "stderr",
          "output_type": "stream",
          "text": [
            "INFO:pic2vec.image_featurizer:Featurized batch #37. Number of images left: 103590\n",
            "Estimated total time left: 38191 seconds\n",
            "\n",
            "INFO:pic2vec.image_featurizer:Loading image batch.\n",
            "INFO:pic2vec.image_featurizer:\n",
            "Featurizing image batch.\n"
          ]
        },
        {
          "name": "stdout",
          "output_type": "stream",
          "text": [
            "1000/1000 [==============================] - 352s 352ms/step\n"
          ]
        },
        {
          "name": "stderr",
          "output_type": "stream",
          "text": [
            "INFO:pic2vec.image_featurizer:Featurized batch #38. Number of images left: 102590\n",
            "Estimated total time left: 36438 seconds\n",
            "\n",
            "INFO:pic2vec.image_featurizer:Loading image batch.\n",
            "INFO:pic2vec.image_featurizer:\n",
            "Featurizing image batch.\n"
          ]
        },
        {
          "name": "stdout",
          "output_type": "stream",
          "text": [
            "1000/1000 [==============================] - 351s 351ms/step\n"
          ]
        },
        {
          "name": "stderr",
          "output_type": "stream",
          "text": [
            "INFO:pic2vec.image_featurizer:Featurized batch #39. Number of images left: 101590\n",
            "Estimated total time left: 35821 seconds\n",
            "\n",
            "INFO:pic2vec.image_featurizer:Loading image batch.\n",
            "INFO:pic2vec.image_featurizer:\n",
            "Featurizing image batch.\n"
          ]
        },
        {
          "name": "stdout",
          "output_type": "stream",
          "text": [
            "1000/1000 [==============================] - 359s 359ms/step\n"
          ]
        },
        {
          "name": "stderr",
          "output_type": "stream",
          "text": [
            "INFO:pic2vec.image_featurizer:Featurized batch #40. Number of images left: 100590\n",
            "Estimated total time left: 37689 seconds\n",
            "\n",
            "INFO:pic2vec.image_featurizer:Loading image batch.\n",
            "INFO:pic2vec.image_featurizer:\n",
            "Featurizing image batch.\n"
          ]
        },
        {
          "name": "stdout",
          "output_type": "stream",
          "text": [
            "1000/1000 [==============================] - 369s 369ms/step\n"
          ]
        },
        {
          "name": "stderr",
          "output_type": "stream",
          "text": [
            "INFO:pic2vec.image_featurizer:Featurized batch #41. Number of images left: 99590\n",
            "Estimated total time left: 38563 seconds\n",
            "\n",
            "INFO:pic2vec.image_featurizer:Loading image batch.\n",
            "INFO:pic2vec.image_featurizer:\n",
            "Featurizing image batch.\n"
          ]
        },
        {
          "name": "stdout",
          "output_type": "stream",
          "text": [
            "1000/1000 [==============================] - 354s 354ms/step\n"
          ]
        },
        {
          "name": "stderr",
          "output_type": "stream",
          "text": [
            "INFO:pic2vec.image_featurizer:Featurized batch #42. Number of images left: 98590\n",
            "Estimated total time left: 36703 seconds\n",
            "\n",
            "INFO:pic2vec.image_featurizer:Loading image batch.\n",
            "INFO:pic2vec.image_featurizer:\n",
            "Featurizing image batch.\n"
          ]
        },
        {
          "name": "stdout",
          "output_type": "stream",
          "text": [
            "1000/1000 [==============================] - 351s 351ms/step\n"
          ]
        },
        {
          "name": "stderr",
          "output_type": "stream",
          "text": [
            "INFO:pic2vec.image_featurizer:Featurized batch #43. Number of images left: 97590\n",
            "Estimated total time left: 35658 seconds\n",
            "\n",
            "INFO:pic2vec.image_featurizer:Loading image batch.\n",
            "INFO:pic2vec.image_featurizer:\n",
            "Featurizing image batch.\n"
          ]
        },
        {
          "name": "stdout",
          "output_type": "stream",
          "text": [
            "1000/1000 [==============================] - 353s 353ms/step\n"
          ]
        },
        {
          "name": "stderr",
          "output_type": "stream",
          "text": [
            "INFO:pic2vec.image_featurizer:Featurized batch #44. Number of images left: 96590\n",
            "Estimated total time left: 35846 seconds\n",
            "\n",
            "INFO:pic2vec.image_featurizer:Loading image batch.\n",
            "INFO:pic2vec.image_featurizer:\n",
            "Featurizing image batch.\n"
          ]
        },
        {
          "name": "stdout",
          "output_type": "stream",
          "text": [
            "1000/1000 [==============================] - 351s 351ms/step\n"
          ]
        },
        {
          "name": "stderr",
          "output_type": "stream",
          "text": [
            "INFO:pic2vec.image_featurizer:Featurized batch #45. Number of images left: 95590\n",
            "Estimated total time left: 35377 seconds\n",
            "\n",
            "INFO:pic2vec.image_featurizer:Loading image batch.\n",
            "INFO:pic2vec.image_featurizer:\n",
            "Featurizing image batch.\n"
          ]
        },
        {
          "name": "stdout",
          "output_type": "stream",
          "text": [
            "1000/1000 [==============================] - 351s 351ms/step\n"
          ]
        },
        {
          "name": "stderr",
          "output_type": "stream",
          "text": [
            "INFO:pic2vec.image_featurizer:Featurized batch #46. Number of images left: 94590\n",
            "Estimated total time left: 34686 seconds\n",
            "\n",
            "INFO:pic2vec.image_featurizer:Loading image batch.\n",
            "INFO:pic2vec.image_featurizer:\n",
            "Featurizing image batch.\n"
          ]
        },
        {
          "name": "stdout",
          "output_type": "stream",
          "text": [
            "1000/1000 [==============================] - 367s 367ms/step\n"
          ]
        },
        {
          "name": "stderr",
          "output_type": "stream",
          "text": [
            "INFO:pic2vec.image_featurizer:Featurized batch #47. Number of images left: 93590\n",
            "Estimated total time left: 35132 seconds\n",
            "\n",
            "INFO:pic2vec.image_featurizer:Loading image batch.\n",
            "INFO:pic2vec.image_featurizer:\n",
            "Featurizing image batch.\n"
          ]
        },
        {
          "name": "stdout",
          "output_type": "stream",
          "text": [
            "1000/1000 [==============================] - 376s 376ms/step\n"
          ]
        },
        {
          "name": "stderr",
          "output_type": "stream",
          "text": [
            "INFO:pic2vec.image_featurizer:Featurized batch #48. Number of images left: 92590\n",
            "Estimated total time left: 34850 seconds\n",
            "\n",
            "INFO:pic2vec.image_featurizer:Loading image batch.\n",
            "INFO:pic2vec.image_featurizer:\n",
            "Featurizing image batch.\n"
          ]
        },
        {
          "name": "stdout",
          "output_type": "stream",
          "text": [
            "1000/1000 [==============================] - 351s 351ms/step\n"
          ]
        },
        {
          "name": "stderr",
          "output_type": "stream",
          "text": [
            "INFO:pic2vec.image_featurizer:Featurized batch #49. Number of images left: 91590\n",
            "Estimated total time left: 33296 seconds\n",
            "\n",
            "INFO:pic2vec.image_featurizer:Loading image batch.\n",
            "INFO:pic2vec.image_featurizer:\n",
            "Featurizing image batch.\n"
          ]
        },
        {
          "name": "stdout",
          "output_type": "stream",
          "text": [
            "1000/1000 [==============================] - 347s 347ms/step\n"
          ]
        },
        {
          "name": "stderr",
          "output_type": "stream",
          "text": [
            "INFO:pic2vec.image_featurizer:Featurized batch #50. Number of images left: 90590\n",
            "Estimated total time left: 32825 seconds\n",
            "\n",
            "INFO:pic2vec.image_featurizer:Loading image batch.\n",
            "INFO:pic2vec.image_featurizer:\n",
            "Featurizing image batch.\n"
          ]
        },
        {
          "name": "stdout",
          "output_type": "stream",
          "text": [
            "1000/1000 [==============================] - 344s 344ms/step\n"
          ]
        },
        {
          "name": "stderr",
          "output_type": "stream",
          "text": [
            "INFO:pic2vec.image_featurizer:Featurized batch #51. Number of images left: 89590\n",
            "Estimated total time left: 31114 seconds\n",
            "\n",
            "INFO:pic2vec.image_featurizer:Loading image batch.\n",
            "INFO:pic2vec.image_featurizer:\n",
            "Featurizing image batch.\n"
          ]
        },
        {
          "name": "stdout",
          "output_type": "stream",
          "text": [
            "1000/1000 [==============================] - 341s 341ms/step\n"
          ]
        },
        {
          "name": "stderr",
          "output_type": "stream",
          "text": [
            "INFO:pic2vec.image_featurizer:Featurized batch #52. Number of images left: 88590\n",
            "Estimated total time left: 30258 seconds\n",
            "\n",
            "INFO:pic2vec.image_featurizer:Loading image batch.\n",
            "INFO:pic2vec.image_featurizer:\n",
            "Featurizing image batch.\n"
          ]
        },
        {
          "name": "stdout",
          "output_type": "stream",
          "text": [
            "1000/1000 [==============================] - 341s 341ms/step\n"
          ]
        },
        {
          "name": "stderr",
          "output_type": "stream",
          "text": [
            "INFO:pic2vec.image_featurizer:Featurized batch #53. Number of images left: 87590\n",
            "Estimated total time left: 29855 seconds\n",
            "\n",
            "INFO:pic2vec.image_featurizer:Loading image batch.\n",
            "INFO:pic2vec.image_featurizer:\n",
            "Featurizing image batch.\n"
          ]
        },
        {
          "name": "stdout",
          "output_type": "stream",
          "text": [
            "1000/1000 [==============================] - 326s 326ms/step\n"
          ]
        },
        {
          "name": "stderr",
          "output_type": "stream",
          "text": [
            "INFO:pic2vec.image_featurizer:Featurized batch #54. Number of images left: 86590\n",
            "Estimated total time left: 28199 seconds\n",
            "\n",
            "INFO:pic2vec.image_featurizer:Loading image batch.\n",
            "INFO:pic2vec.image_featurizer:\n",
            "Featurizing image batch.\n"
          ]
        },
        {
          "name": "stdout",
          "output_type": "stream",
          "text": [
            "1000/1000 [==============================] - 334s 334ms/step\n"
          ]
        },
        {
          "name": "stderr",
          "output_type": "stream",
          "text": [
            "INFO:pic2vec.image_featurizer:Featurized batch #55. Number of images left: 85590\n",
            "Estimated total time left: 28629 seconds\n",
            "\n",
            "INFO:pic2vec.image_featurizer:Loading image batch.\n",
            "INFO:pic2vec.image_featurizer:\n",
            "Featurizing image batch.\n"
          ]
        },
        {
          "name": "stdout",
          "output_type": "stream",
          "text": [
            "1000/1000 [==============================] - 336s 336ms/step\n"
          ]
        },
        {
          "name": "stderr",
          "output_type": "stream",
          "text": [
            "INFO:pic2vec.image_featurizer:Featurized batch #56. Number of images left: 84590\n",
            "Estimated total time left: 29040 seconds\n",
            "\n",
            "INFO:pic2vec.image_featurizer:Loading image batch.\n",
            "INFO:pic2vec.image_featurizer:\n",
            "Featurizing image batch.\n"
          ]
        },
        {
          "name": "stdout",
          "output_type": "stream",
          "text": [
            "1000/1000 [==============================] - 330s 330ms/step\n"
          ]
        },
        {
          "name": "stderr",
          "output_type": "stream",
          "text": [
            "INFO:pic2vec.image_featurizer:Featurized batch #57. Number of images left: 83590\n",
            "Estimated total time left: 28765 seconds\n",
            "\n",
            "INFO:pic2vec.image_featurizer:Loading image batch.\n",
            "INFO:pic2vec.image_featurizer:\n",
            "Featurizing image batch.\n"
          ]
        },
        {
          "name": "stdout",
          "output_type": "stream",
          "text": [
            "1000/1000 [==============================] - 321s 321ms/step\n"
          ]
        },
        {
          "name": "stderr",
          "output_type": "stream",
          "text": [
            "INFO:pic2vec.image_featurizer:Featurized batch #58. Number of images left: 82590\n",
            "Estimated total time left: 27718 seconds\n",
            "\n",
            "INFO:pic2vec.image_featurizer:Loading image batch.\n",
            "INFO:pic2vec.image_featurizer:\n",
            "Featurizing image batch.\n"
          ]
        },
        {
          "name": "stdout",
          "output_type": "stream",
          "text": [
            "1000/1000 [==============================] - 320s 320ms/step\n"
          ]
        },
        {
          "name": "stderr",
          "output_type": "stream",
          "text": [
            "INFO:pic2vec.image_featurizer:Featurized batch #59. Number of images left: 81590\n",
            "Estimated total time left: 26845 seconds\n",
            "\n",
            "INFO:pic2vec.image_featurizer:Loading image batch.\n",
            "INFO:pic2vec.image_featurizer:\n",
            "Featurizing image batch.\n"
          ]
        },
        {
          "name": "stdout",
          "output_type": "stream",
          "text": [
            "1000/1000 [==============================] - 320s 320ms/step\n"
          ]
        },
        {
          "name": "stderr",
          "output_type": "stream",
          "text": [
            "INFO:pic2vec.image_featurizer:Featurized batch #60. Number of images left: 80590\n",
            "Estimated total time left: 26005 seconds\n",
            "\n",
            "INFO:pic2vec.image_featurizer:Loading image batch.\n",
            "INFO:pic2vec.image_featurizer:\n",
            "Featurizing image batch.\n"
          ]
        },
        {
          "name": "stdout",
          "output_type": "stream",
          "text": [
            "1000/1000 [==============================] - 322s 322ms/step\n"
          ]
        },
        {
          "name": "stderr",
          "output_type": "stream",
          "text": [
            "INFO:pic2vec.image_featurizer:Featurized batch #61. Number of images left: 79590\n",
            "Estimated total time left: 25575 seconds\n",
            "\n",
            "INFO:pic2vec.image_featurizer:Loading image batch.\n",
            "INFO:pic2vec.image_featurizer:\n",
            "Featurizing image batch.\n"
          ]
        },
        {
          "name": "stdout",
          "output_type": "stream",
          "text": [
            "1000/1000 [==============================] - 323s 323ms/step\n"
          ]
        },
        {
          "name": "stderr",
          "output_type": "stream",
          "text": [
            "INFO:pic2vec.image_featurizer:Featurized batch #62. Number of images left: 78590\n",
            "Estimated total time left: 25352 seconds\n",
            "\n",
            "INFO:pic2vec.image_featurizer:Loading image batch.\n",
            "INFO:pic2vec.image_featurizer:\n",
            "Featurizing image batch.\n"
          ]
        },
        {
          "name": "stdout",
          "output_type": "stream",
          "text": [
            "1000/1000 [==============================] - 319s 319ms/step\n"
          ]
        },
        {
          "name": "stderr",
          "output_type": "stream",
          "text": [
            "INFO:pic2vec.image_featurizer:Featurized batch #63. Number of images left: 77590\n",
            "Estimated total time left: 24751 seconds\n",
            "\n",
            "INFO:pic2vec.image_featurizer:Loading image batch.\n",
            "INFO:pic2vec.image_featurizer:\n",
            "Featurizing image batch.\n"
          ]
        },
        {
          "name": "stdout",
          "output_type": "stream",
          "text": [
            "1000/1000 [==============================] - 320s 320ms/step\n"
          ]
        },
        {
          "name": "stderr",
          "output_type": "stream",
          "text": [
            "INFO:pic2vec.image_featurizer:Featurized batch #64. Number of images left: 76590\n",
            "Estimated total time left: 24482 seconds\n",
            "\n",
            "INFO:pic2vec.image_featurizer:Loading image batch.\n",
            "INFO:pic2vec.image_featurizer:\n",
            "Featurizing image batch.\n"
          ]
        },
        {
          "name": "stdout",
          "output_type": "stream",
          "text": [
            "1000/1000 [==============================] - 321s 321ms/step\n"
          ]
        },
        {
          "name": "stderr",
          "output_type": "stream",
          "text": [
            "INFO:pic2vec.image_featurizer:Featurized batch #65. Number of images left: 75590\n",
            "Estimated total time left: 24260 seconds\n",
            "\n",
            "INFO:pic2vec.image_featurizer:Loading image batch.\n",
            "INFO:pic2vec.image_featurizer:\n",
            "Featurizing image batch.\n"
          ]
        },
        {
          "name": "stdout",
          "output_type": "stream",
          "text": [
            "1000/1000 [==============================] - 321s 321ms/step\n"
          ]
        },
        {
          "name": "stderr",
          "output_type": "stream",
          "text": [
            "INFO:pic2vec.image_featurizer:Featurized batch #66. Number of images left: 74590\n",
            "Estimated total time left: 23902 seconds\n",
            "\n",
            "INFO:pic2vec.image_featurizer:Loading image batch.\n",
            "INFO:pic2vec.image_featurizer:\n",
            "Featurizing image batch.\n"
          ]
        },
        {
          "name": "stdout",
          "output_type": "stream",
          "text": [
            "1000/1000 [==============================] - 319s 319ms/step\n"
          ]
        },
        {
          "name": "stderr",
          "output_type": "stream",
          "text": [
            "INFO:pic2vec.image_featurizer:Featurized batch #67. Number of images left: 73590\n",
            "Estimated total time left: 24130 seconds\n",
            "\n",
            "INFO:pic2vec.image_featurizer:Loading image batch.\n",
            "INFO:pic2vec.image_featurizer:\n",
            "Featurizing image batch.\n"
          ]
        },
        {
          "name": "stdout",
          "output_type": "stream",
          "text": [
            "1000/1000 [==============================] - 319s 319ms/step\n"
          ]
        },
        {
          "name": "stderr",
          "output_type": "stream",
          "text": [
            "INFO:pic2vec.image_featurizer:Featurized batch #68. Number of images left: 72590\n",
            "Estimated total time left: 24330 seconds\n",
            "\n",
            "INFO:pic2vec.image_featurizer:Loading image batch.\n",
            "INFO:pic2vec.image_featurizer:\n",
            "Featurizing image batch.\n"
          ]
        },
        {
          "name": "stdout",
          "output_type": "stream",
          "text": [
            "1000/1000 [==============================] - 320s 320ms/step\n"
          ]
        },
        {
          "name": "stderr",
          "output_type": "stream",
          "text": [
            "INFO:pic2vec.image_featurizer:Featurized batch #69. Number of images left: 71590\n",
            "Estimated total time left: 23884 seconds\n",
            "\n",
            "INFO:pic2vec.image_featurizer:Loading image batch.\n",
            "INFO:pic2vec.image_featurizer:\n",
            "Featurizing image batch.\n"
          ]
        },
        {
          "name": "stdout",
          "output_type": "stream",
          "text": [
            "1000/1000 [==============================] - 320s 320ms/step\n"
          ]
        },
        {
          "name": "stderr",
          "output_type": "stream",
          "text": [
            "INFO:pic2vec.image_featurizer:Featurized batch #70. Number of images left: 70590\n",
            "Estimated total time left: 23104 seconds\n",
            "\n",
            "INFO:pic2vec.image_featurizer:Loading image batch.\n",
            "INFO:pic2vec.image_featurizer:\n",
            "Featurizing image batch.\n"
          ]
        },
        {
          "name": "stdout",
          "output_type": "stream",
          "text": [
            "1000/1000 [==============================] - 319s 319ms/step\n"
          ]
        },
        {
          "name": "stderr",
          "output_type": "stream",
          "text": [
            "INFO:pic2vec.image_featurizer:Featurized batch #71. Number of images left: 69590\n",
            "Estimated total time left: 23226 seconds\n",
            "\n",
            "INFO:pic2vec.image_featurizer:Loading image batch.\n",
            "INFO:pic2vec.image_featurizer:\n",
            "Featurizing image batch.\n"
          ]
        },
        {
          "name": "stdout",
          "output_type": "stream",
          "text": [
            "1000/1000 [==============================] - 320s 320ms/step\n"
          ]
        },
        {
          "name": "stderr",
          "output_type": "stream",
          "text": [
            "INFO:pic2vec.image_featurizer:Featurized batch #72. Number of images left: 68590\n",
            "Estimated total time left: 22909 seconds\n",
            "\n",
            "INFO:pic2vec.image_featurizer:Loading image batch.\n",
            "INFO:pic2vec.image_featurizer:\n",
            "Featurizing image batch.\n"
          ]
        },
        {
          "name": "stdout",
          "output_type": "stream",
          "text": [
            "1000/1000 [==============================] - 321s 321ms/step\n"
          ]
        },
        {
          "name": "stderr",
          "output_type": "stream",
          "text": [
            "INFO:pic2vec.image_featurizer:Featurized batch #73. Number of images left: 67590\n",
            "Estimated total time left: 21969 seconds\n",
            "\n",
            "INFO:pic2vec.image_featurizer:Loading image batch.\n",
            "INFO:pic2vec.image_featurizer:\n",
            "Featurizing image batch.\n"
          ]
        },
        {
          "name": "stdout",
          "output_type": "stream",
          "text": [
            "1000/1000 [==============================] - 319s 319ms/step\n"
          ]
        },
        {
          "name": "stderr",
          "output_type": "stream",
          "text": [
            "INFO:pic2vec.image_featurizer:Featurized batch #74. Number of images left: 66590\n",
            "Estimated total time left: 21177 seconds\n",
            "\n",
            "INFO:pic2vec.image_featurizer:Loading image batch.\n",
            "INFO:pic2vec.image_featurizer:\n",
            "Featurizing image batch.\n"
          ]
        },
        {
          "name": "stdout",
          "output_type": "stream",
          "text": [
            "1000/1000 [==============================] - 320s 320ms/step\n"
          ]
        },
        {
          "name": "stderr",
          "output_type": "stream",
          "text": [
            "INFO:pic2vec.image_featurizer:Featurized batch #75. Number of images left: 65590\n",
            "Estimated total time left: 20933 seconds\n",
            "\n",
            "INFO:pic2vec.image_featurizer:Loading image batch.\n",
            "INFO:pic2vec.image_featurizer:\n",
            "Featurizing image batch.\n"
          ]
        },
        {
          "name": "stdout",
          "output_type": "stream",
          "text": [
            "1000/1000 [==============================] - 319s 319ms/step\n"
          ]
        },
        {
          "name": "stderr",
          "output_type": "stream",
          "text": [
            "INFO:pic2vec.image_featurizer:Featurized batch #76. Number of images left: 64590\n",
            "Estimated total time left: 20553 seconds\n",
            "\n",
            "INFO:pic2vec.image_featurizer:Loading image batch.\n",
            "INFO:pic2vec.image_featurizer:\n",
            "Featurizing image batch.\n"
          ]
        },
        {
          "name": "stdout",
          "output_type": "stream",
          "text": [
            "1000/1000 [==============================] - 324s 324ms/step\n"
          ]
        },
        {
          "name": "stderr",
          "output_type": "stream",
          "text": [
            "INFO:pic2vec.image_featurizer:Featurized batch #77. Number of images left: 63590\n",
            "Estimated total time left: 21761 seconds\n",
            "\n",
            "INFO:pic2vec.image_featurizer:Loading image batch.\n",
            "INFO:pic2vec.image_featurizer:\n",
            "Featurizing image batch.\n"
          ]
        },
        {
          "name": "stdout",
          "output_type": "stream",
          "text": [
            "1000/1000 [==============================] - 319s 319ms/step\n"
          ]
        },
        {
          "name": "stderr",
          "output_type": "stream",
          "text": [
            "INFO:pic2vec.image_featurizer:Featurized batch #78. Number of images left: 62590\n",
            "Estimated total time left: 20914 seconds\n",
            "\n",
            "INFO:pic2vec.image_featurizer:Loading image batch.\n",
            "INFO:pic2vec.image_featurizer:\n",
            "Featurizing image batch.\n"
          ]
        },
        {
          "name": "stdout",
          "output_type": "stream",
          "text": [
            "1000/1000 [==============================] - 320s 320ms/step\n"
          ]
        },
        {
          "name": "stderr",
          "output_type": "stream",
          "text": [
            "INFO:pic2vec.image_featurizer:Featurized batch #79. Number of images left: 61590\n",
            "Estimated total time left: 20642 seconds\n",
            "\n",
            "INFO:pic2vec.image_featurizer:Loading image batch.\n",
            "INFO:pic2vec.image_featurizer:\n",
            "Featurizing image batch.\n"
          ]
        },
        {
          "name": "stdout",
          "output_type": "stream",
          "text": [
            "1000/1000 [==============================] - 319s 319ms/step\n"
          ]
        },
        {
          "name": "stderr",
          "output_type": "stream",
          "text": [
            "INFO:pic2vec.image_featurizer:Featurized batch #80. Number of images left: 60590\n",
            "Estimated total time left: 20532 seconds\n",
            "\n",
            "INFO:pic2vec.image_featurizer:Loading image batch.\n",
            "INFO:pic2vec.image_featurizer:\n",
            "Featurizing image batch.\n"
          ]
        },
        {
          "name": "stdout",
          "output_type": "stream",
          "text": [
            "1000/1000 [==============================] - 324s 324ms/step\n"
          ]
        },
        {
          "name": "stderr",
          "output_type": "stream",
          "text": [
            "INFO:pic2vec.image_featurizer:Featurized batch #81. Number of images left: 59590\n",
            "Estimated total time left: 20250 seconds\n",
            "\n",
            "INFO:pic2vec.image_featurizer:Loading image batch.\n",
            "INFO:pic2vec.image_featurizer:\n",
            "Featurizing image batch.\n"
          ]
        },
        {
          "name": "stdout",
          "output_type": "stream",
          "text": [
            "1000/1000 [==============================] - 319s 319ms/step\n"
          ]
        },
        {
          "name": "stderr",
          "output_type": "stream",
          "text": [
            "INFO:pic2vec.image_featurizer:Featurized batch #82. Number of images left: 58590\n",
            "Estimated total time left: 19203 seconds\n",
            "\n",
            "INFO:pic2vec.image_featurizer:Loading image batch.\n",
            "INFO:pic2vec.image_featurizer:\n",
            "Featurizing image batch.\n"
          ]
        },
        {
          "name": "stdout",
          "output_type": "stream",
          "text": [
            "1000/1000 [==============================] - 322s 322ms/step\n"
          ]
        },
        {
          "name": "stderr",
          "output_type": "stream",
          "text": [
            "INFO:pic2vec.image_featurizer:Featurized batch #83. Number of images left: 57590\n",
            "Estimated total time left: 18513 seconds\n",
            "\n",
            "INFO:pic2vec.image_featurizer:Loading image batch.\n",
            "INFO:pic2vec.image_featurizer:\n",
            "Featurizing image batch.\n"
          ]
        },
        {
          "name": "stdout",
          "output_type": "stream",
          "text": [
            "1000/1000 [==============================] - 321s 321ms/step\n"
          ]
        },
        {
          "name": "stderr",
          "output_type": "stream",
          "text": [
            "INFO:pic2vec.image_featurizer:Featurized batch #84. Number of images left: 56590\n",
            "Estimated total time left: 18694 seconds\n",
            "\n",
            "INFO:pic2vec.image_featurizer:Loading image batch.\n",
            "INFO:pic2vec.image_featurizer:\n",
            "Featurizing image batch.\n"
          ]
        },
        {
          "name": "stdout",
          "output_type": "stream",
          "text": [
            "1000/1000 [==============================] - 319s 319ms/step\n"
          ]
        },
        {
          "name": "stderr",
          "output_type": "stream",
          "text": [
            "INFO:pic2vec.image_featurizer:Featurized batch #85. Number of images left: 55590\n",
            "Estimated total time left: 18463 seconds\n",
            "\n",
            "INFO:pic2vec.image_featurizer:Loading image batch.\n",
            "INFO:pic2vec.image_featurizer:\n",
            "Featurizing image batch.\n"
          ]
        },
        {
          "name": "stdout",
          "output_type": "stream",
          "text": [
            "1000/1000 [==============================] - 319s 319ms/step\n"
          ]
        },
        {
          "name": "stderr",
          "output_type": "stream",
          "text": [
            "INFO:pic2vec.image_featurizer:Featurized batch #86. Number of images left: 54590\n",
            "Estimated total time left: 17764 seconds\n",
            "\n",
            "INFO:pic2vec.image_featurizer:Loading image batch.\n",
            "INFO:pic2vec.image_featurizer:\n",
            "Featurizing image batch.\n"
          ]
        },
        {
          "name": "stdout",
          "output_type": "stream",
          "text": [
            "1000/1000 [==============================] - 319s 319ms/step\n"
          ]
        },
        {
          "name": "stderr",
          "output_type": "stream",
          "text": [
            "INFO:pic2vec.image_featurizer:Featurized batch #87. Number of images left: 53590\n",
            "Estimated total time left: 17417 seconds\n",
            "\n",
            "INFO:pic2vec.image_featurizer:Loading image batch.\n",
            "INFO:pic2vec.image_featurizer:\n",
            "Featurizing image batch.\n"
          ]
        },
        {
          "name": "stdout",
          "output_type": "stream",
          "text": [
            "1000/1000 [==============================] - 319s 319ms/step\n"
          ]
        },
        {
          "name": "stderr",
          "output_type": "stream",
          "text": [
            "INFO:pic2vec.image_featurizer:Featurized batch #88. Number of images left: 52590\n",
            "Estimated total time left: 16678 seconds\n",
            "\n",
            "INFO:pic2vec.image_featurizer:Loading image batch.\n",
            "INFO:pic2vec.image_featurizer:\n",
            "Featurizing image batch.\n"
          ]
        },
        {
          "name": "stdout",
          "output_type": "stream",
          "text": [
            "1000/1000 [==============================] - 318s 318ms/step\n"
          ]
        },
        {
          "name": "stderr",
          "output_type": "stream",
          "text": [
            "INFO:pic2vec.image_featurizer:Featurized batch #89. Number of images left: 51590\n",
            "Estimated total time left: 16538 seconds\n",
            "\n",
            "INFO:pic2vec.image_featurizer:Loading image batch.\n",
            "INFO:pic2vec.image_featurizer:\n",
            "Featurizing image batch.\n"
          ]
        },
        {
          "name": "stdout",
          "output_type": "stream",
          "text": [
            "1000/1000 [==============================] - 319s 319ms/step\n"
          ]
        },
        {
          "name": "stderr",
          "output_type": "stream",
          "text": [
            "INFO:pic2vec.image_featurizer:Featurized batch #90. Number of images left: 50590\n",
            "Estimated total time left: 16862 seconds\n",
            "\n",
            "INFO:pic2vec.image_featurizer:Loading image batch.\n",
            "INFO:pic2vec.image_featurizer:\n",
            "Featurizing image batch.\n"
          ]
        },
        {
          "name": "stdout",
          "output_type": "stream",
          "text": [
            "1000/1000 [==============================] - 320s 320ms/step\n"
          ]
        },
        {
          "name": "stderr",
          "output_type": "stream",
          "text": [
            "INFO:pic2vec.image_featurizer:Featurized batch #91. Number of images left: 49590\n",
            "Estimated total time left: 16176 seconds\n",
            "\n",
            "INFO:pic2vec.image_featurizer:Loading image batch.\n",
            "INFO:pic2vec.image_featurizer:\n",
            "Featurizing image batch.\n"
          ]
        },
        {
          "name": "stdout",
          "output_type": "stream",
          "text": [
            "1000/1000 [==============================] - 319s 319ms/step\n"
          ]
        },
        {
          "name": "stderr",
          "output_type": "stream",
          "text": [
            "INFO:pic2vec.image_featurizer:Featurized batch #92. Number of images left: 48590\n",
            "Estimated total time left: 15433 seconds\n",
            "\n",
            "INFO:pic2vec.image_featurizer:Loading image batch.\n",
            "INFO:pic2vec.image_featurizer:\n",
            "Featurizing image batch.\n"
          ]
        },
        {
          "name": "stdout",
          "output_type": "stream",
          "text": [
            "1000/1000 [==============================] - 318s 318ms/step\n"
          ]
        },
        {
          "name": "stderr",
          "output_type": "stream",
          "text": [
            "INFO:pic2vec.image_featurizer:Featurized batch #93. Number of images left: 47590\n",
            "Estimated total time left: 15062 seconds\n",
            "\n",
            "INFO:pic2vec.image_featurizer:Loading image batch.\n",
            "INFO:pic2vec.image_featurizer:\n",
            "Featurizing image batch.\n"
          ]
        },
        {
          "name": "stdout",
          "output_type": "stream",
          "text": [
            "1000/1000 [==============================] - 321s 321ms/step\n"
          ]
        },
        {
          "name": "stderr",
          "output_type": "stream",
          "text": [
            "INFO:pic2vec.image_featurizer:Featurized batch #94. Number of images left: 46590\n",
            "Estimated total time left: 14850 seconds\n",
            "\n",
            "INFO:pic2vec.image_featurizer:Loading image batch.\n",
            "INFO:pic2vec.image_featurizer:\n",
            "Featurizing image batch.\n"
          ]
        },
        {
          "name": "stdout",
          "output_type": "stream",
          "text": [
            "1000/1000 [==============================] - 321s 321ms/step\n"
          ]
        },
        {
          "name": "stderr",
          "output_type": "stream",
          "text": [
            "INFO:pic2vec.image_featurizer:Featurized batch #95. Number of images left: 45590\n",
            "Estimated total time left: 14566 seconds\n",
            "\n",
            "INFO:pic2vec.image_featurizer:Loading image batch.\n",
            "INFO:pic2vec.image_featurizer:\n",
            "Featurizing image batch.\n"
          ]
        },
        {
          "name": "stdout",
          "output_type": "stream",
          "text": [
            "1000/1000 [==============================] - 320s 320ms/step\n"
          ]
        },
        {
          "name": "stderr",
          "output_type": "stream",
          "text": [
            "INFO:pic2vec.image_featurizer:Featurized batch #96. Number of images left: 44590\n",
            "Estimated total time left: 14163 seconds\n",
            "\n",
            "INFO:pic2vec.image_featurizer:Loading image batch.\n",
            "INFO:pic2vec.image_featurizer:\n",
            "Featurizing image batch.\n"
          ]
        },
        {
          "name": "stdout",
          "output_type": "stream",
          "text": [
            "1000/1000 [==============================] - 321s 321ms/step\n"
          ]
        },
        {
          "name": "stderr",
          "output_type": "stream",
          "text": [
            "INFO:pic2vec.image_featurizer:Featurized batch #97. Number of images left: 43590\n",
            "Estimated total time left: 13918 seconds\n",
            "\n",
            "INFO:pic2vec.image_featurizer:Loading image batch.\n",
            "INFO:pic2vec.image_featurizer:\n",
            "Featurizing image batch.\n"
          ]
        },
        {
          "name": "stdout",
          "output_type": "stream",
          "text": [
            "1000/1000 [==============================] - 319s 319ms/step\n"
          ]
        },
        {
          "name": "stderr",
          "output_type": "stream",
          "text": [
            "INFO:pic2vec.image_featurizer:Featurized batch #98. Number of images left: 42590\n",
            "Estimated total time left: 13550 seconds\n",
            "\n",
            "INFO:pic2vec.image_featurizer:Loading image batch.\n",
            "INFO:pic2vec.image_featurizer:\n",
            "Featurizing image batch.\n"
          ]
        },
        {
          "name": "stdout",
          "output_type": "stream",
          "text": [
            "1000/1000 [==============================] - 319s 319ms/step\n"
          ]
        },
        {
          "name": "stderr",
          "output_type": "stream",
          "text": [
            "INFO:pic2vec.image_featurizer:Featurized batch #99. Number of images left: 41590\n",
            "Estimated total time left: 13697 seconds\n",
            "\n",
            "INFO:pic2vec.image_featurizer:Loading image batch.\n",
            "INFO:pic2vec.image_featurizer:\n",
            "Featurizing image batch.\n"
          ]
        },
        {
          "name": "stdout",
          "output_type": "stream",
          "text": [
            "1000/1000 [==============================] - 319s 319ms/step\n"
          ]
        },
        {
          "name": "stderr",
          "output_type": "stream",
          "text": [
            "INFO:pic2vec.image_featurizer:Featurized batch #100. Number of images left: 40590\n",
            "Estimated total time left: 13140 seconds\n",
            "\n",
            "INFO:pic2vec.image_featurizer:Loading image batch.\n",
            "INFO:pic2vec.image_featurizer:\n",
            "Featurizing image batch.\n"
          ]
        },
        {
          "name": "stdout",
          "output_type": "stream",
          "text": [
            "1000/1000 [==============================] - 319s 319ms/step\n"
          ]
        },
        {
          "name": "stderr",
          "output_type": "stream",
          "text": [
            "INFO:pic2vec.image_featurizer:Featurized batch #101. Number of images left: 39590\n",
            "Estimated total time left: 12544 seconds\n",
            "\n",
            "INFO:pic2vec.image_featurizer:Loading image batch.\n",
            "INFO:pic2vec.image_featurizer:\n",
            "Featurizing image batch.\n"
          ]
        },
        {
          "name": "stdout",
          "output_type": "stream",
          "text": [
            "1000/1000 [==============================] - 320s 320ms/step\n"
          ]
        },
        {
          "name": "stderr",
          "output_type": "stream",
          "text": [
            "INFO:pic2vec.image_featurizer:Featurized batch #102. Number of images left: 38590\n",
            "Estimated total time left: 12247 seconds\n",
            "\n",
            "INFO:pic2vec.image_featurizer:Loading image batch.\n",
            "INFO:pic2vec.image_featurizer:\n",
            "Featurizing image batch.\n"
          ]
        },
        {
          "name": "stdout",
          "output_type": "stream",
          "text": [
            "1000/1000 [==============================] - 319s 319ms/step\n"
          ]
        },
        {
          "name": "stderr",
          "output_type": "stream",
          "text": [
            "INFO:pic2vec.image_featurizer:Featurized batch #103. Number of images left: 37590\n",
            "Estimated total time left: 11890 seconds\n",
            "\n",
            "INFO:pic2vec.image_featurizer:Loading image batch.\n",
            "INFO:pic2vec.image_featurizer:\n",
            "Featurizing image batch.\n"
          ]
        },
        {
          "name": "stdout",
          "output_type": "stream",
          "text": [
            "1000/1000 [==============================] - 320s 320ms/step\n"
          ]
        },
        {
          "name": "stderr",
          "output_type": "stream",
          "text": [
            "INFO:pic2vec.image_featurizer:Featurized batch #104. Number of images left: 36590\n",
            "Estimated total time left: 11592 seconds\n",
            "\n",
            "INFO:pic2vec.image_featurizer:Loading image batch.\n",
            "INFO:pic2vec.image_featurizer:\n",
            "Featurizing image batch.\n"
          ]
        },
        {
          "name": "stdout",
          "output_type": "stream",
          "text": [
            "1000/1000 [==============================] - 321s 321ms/step\n"
          ]
        },
        {
          "name": "stderr",
          "output_type": "stream",
          "text": [
            "INFO:pic2vec.image_featurizer:Featurized batch #105. Number of images left: 35590\n",
            "Estimated total time left: 11297 seconds\n",
            "\n",
            "INFO:pic2vec.image_featurizer:Loading image batch.\n",
            "INFO:pic2vec.image_featurizer:\n",
            "Featurizing image batch.\n"
          ]
        },
        {
          "name": "stdout",
          "output_type": "stream",
          "text": [
            "1000/1000 [==============================] - 322s 322ms/step\n"
          ]
        },
        {
          "name": "stderr",
          "output_type": "stream",
          "text": [
            "INFO:pic2vec.image_featurizer:Featurized batch #106. Number of images left: 34590\n",
            "Estimated total time left: 11366 seconds\n",
            "\n",
            "INFO:pic2vec.image_featurizer:Loading image batch.\n",
            "INFO:pic2vec.image_featurizer:\n",
            "Featurizing image batch.\n"
          ]
        },
        {
          "name": "stdout",
          "output_type": "stream",
          "text": [
            "1000/1000 [==============================] - 320s 320ms/step\n"
          ]
        },
        {
          "name": "stderr",
          "output_type": "stream",
          "text": [
            "INFO:pic2vec.image_featurizer:Featurized batch #107. Number of images left: 33590\n",
            "Estimated total time left: 11158 seconds\n",
            "\n",
            "INFO:pic2vec.image_featurizer:Loading image batch.\n",
            "INFO:pic2vec.image_featurizer:\n",
            "Featurizing image batch.\n"
          ]
        },
        {
          "name": "stdout",
          "output_type": "stream",
          "text": [
            "1000/1000 [==============================] - 318s 318ms/step\n"
          ]
        },
        {
          "name": "stderr",
          "output_type": "stream",
          "text": [
            "INFO:pic2vec.image_featurizer:Featurized batch #108. Number of images left: 32590\n",
            "Estimated total time left: 10479 seconds\n",
            "\n",
            "INFO:pic2vec.image_featurizer:Loading image batch.\n",
            "INFO:pic2vec.image_featurizer:\n",
            "Featurizing image batch.\n"
          ]
        },
        {
          "name": "stdout",
          "output_type": "stream",
          "text": [
            "1000/1000 [==============================] - 319s 319ms/step\n"
          ]
        },
        {
          "name": "stderr",
          "output_type": "stream",
          "text": [
            "INFO:pic2vec.image_featurizer:Featurized batch #109. Number of images left: 31590\n",
            "Estimated total time left: 9944 seconds\n",
            "\n",
            "INFO:pic2vec.image_featurizer:Loading image batch.\n",
            "INFO:pic2vec.image_featurizer:\n",
            "Featurizing image batch.\n"
          ]
        },
        {
          "name": "stdout",
          "output_type": "stream",
          "text": [
            "1000/1000 [==============================] - 318s 318ms/step\n"
          ]
        },
        {
          "name": "stderr",
          "output_type": "stream",
          "text": [
            "INFO:pic2vec.image_featurizer:Featurized batch #110. Number of images left: 30590\n",
            "Estimated total time left: 9927 seconds\n",
            "\n",
            "INFO:pic2vec.image_featurizer:Loading image batch.\n",
            "INFO:pic2vec.image_featurizer:\n",
            "Featurizing image batch.\n"
          ]
        },
        {
          "name": "stdout",
          "output_type": "stream",
          "text": [
            "1000/1000 [==============================] - 319s 319ms/step\n"
          ]
        },
        {
          "name": "stderr",
          "output_type": "stream",
          "text": [
            "INFO:pic2vec.image_featurizer:Featurized batch #111. Number of images left: 29590\n",
            "Estimated total time left: 9717 seconds\n",
            "\n",
            "INFO:pic2vec.image_featurizer:Loading image batch.\n",
            "INFO:pic2vec.image_featurizer:\n",
            "Featurizing image batch.\n"
          ]
        },
        {
          "name": "stdout",
          "output_type": "stream",
          "text": [
            "1000/1000 [==============================] - 319s 319ms/step\n"
          ]
        },
        {
          "name": "stderr",
          "output_type": "stream",
          "text": [
            "INFO:pic2vec.image_featurizer:Featurized batch #112. Number of images left: 28590\n",
            "Estimated total time left: 9507 seconds\n",
            "\n",
            "INFO:pic2vec.image_featurizer:Loading image batch.\n",
            "INFO:pic2vec.image_featurizer:\n",
            "Featurizing image batch.\n"
          ]
        },
        {
          "name": "stdout",
          "output_type": "stream",
          "text": [
            "1000/1000 [==============================] - 319s 319ms/step\n"
          ]
        },
        {
          "name": "stderr",
          "output_type": "stream",
          "text": [
            "INFO:pic2vec.image_featurizer:Featurized batch #113. Number of images left: 27590\n",
            "Estimated total time left: 9062 seconds\n",
            "\n",
            "INFO:pic2vec.image_featurizer:Loading image batch.\n",
            "INFO:pic2vec.image_featurizer:\n",
            "Featurizing image batch.\n"
          ]
        },
        {
          "name": "stdout",
          "output_type": "stream",
          "text": [
            "1000/1000 [==============================] - 319s 319ms/step\n"
          ]
        },
        {
          "name": "stderr",
          "output_type": "stream",
          "text": [
            "INFO:pic2vec.image_featurizer:Featurized batch #114. Number of images left: 26590\n",
            "Estimated total time left: 8800 seconds\n",
            "\n",
            "INFO:pic2vec.image_featurizer:Loading image batch.\n",
            "INFO:pic2vec.image_featurizer:\n",
            "Featurizing image batch.\n"
          ]
        },
        {
          "name": "stdout",
          "output_type": "stream",
          "text": [
            "1000/1000 [==============================] - 319s 319ms/step\n"
          ]
        },
        {
          "name": "stderr",
          "output_type": "stream",
          "text": [
            "INFO:pic2vec.image_featurizer:Featurized batch #115. Number of images left: 25590\n",
            "Estimated total time left: 8434 seconds\n",
            "\n",
            "INFO:pic2vec.image_featurizer:Loading image batch.\n",
            "INFO:pic2vec.image_featurizer:\n",
            "Featurizing image batch.\n"
          ]
        },
        {
          "name": "stdout",
          "output_type": "stream",
          "text": [
            "1000/1000 [==============================] - 319s 319ms/step\n"
          ]
        },
        {
          "name": "stderr",
          "output_type": "stream",
          "text": [
            "INFO:pic2vec.image_featurizer:Featurized batch #116. Number of images left: 24590\n",
            "Estimated total time left: 8175 seconds\n",
            "\n",
            "INFO:pic2vec.image_featurizer:Loading image batch.\n",
            "INFO:pic2vec.image_featurizer:\n",
            "Featurizing image batch.\n"
          ]
        },
        {
          "name": "stdout",
          "output_type": "stream",
          "text": [
            "1000/1000 [==============================] - 322s 322ms/step\n"
          ]
        },
        {
          "name": "stderr",
          "output_type": "stream",
          "text": [
            "INFO:pic2vec.image_featurizer:Featurized batch #117. Number of images left: 23590\n",
            "Estimated total time left: 7741 seconds\n",
            "\n",
            "INFO:pic2vec.image_featurizer:Loading image batch.\n",
            "INFO:pic2vec.image_featurizer:\n",
            "Featurizing image batch.\n"
          ]
        },
        {
          "name": "stdout",
          "output_type": "stream",
          "text": [
            "1000/1000 [==============================] - 319s 319ms/step\n"
          ]
        },
        {
          "name": "stderr",
          "output_type": "stream",
          "text": [
            "INFO:pic2vec.image_featurizer:Featurized batch #118. Number of images left: 22590\n",
            "Estimated total time left: 7067 seconds\n",
            "\n",
            "INFO:pic2vec.image_featurizer:Loading image batch.\n",
            "INFO:pic2vec.image_featurizer:\n",
            "Featurizing image batch.\n"
          ]
        },
        {
          "name": "stdout",
          "output_type": "stream",
          "text": [
            "1000/1000 [==============================] - 319s 319ms/step\n"
          ]
        },
        {
          "name": "stderr",
          "output_type": "stream",
          "text": [
            "INFO:pic2vec.image_featurizer:Featurized batch #119. Number of images left: 21590\n",
            "Estimated total time left: 6897 seconds\n",
            "\n",
            "INFO:pic2vec.image_featurizer:Loading image batch.\n",
            "INFO:pic2vec.image_featurizer:\n",
            "Featurizing image batch.\n"
          ]
        },
        {
          "name": "stdout",
          "output_type": "stream",
          "text": [
            "1000/1000 [==============================] - 319s 319ms/step\n"
          ]
        },
        {
          "name": "stderr",
          "output_type": "stream",
          "text": [
            "INFO:pic2vec.image_featurizer:Featurized batch #120. Number of images left: 20590\n",
            "Estimated total time left: 6737 seconds\n",
            "\n",
            "INFO:pic2vec.image_featurizer:Loading image batch.\n",
            "INFO:pic2vec.image_featurizer:\n",
            "Featurizing image batch.\n"
          ]
        },
        {
          "name": "stdout",
          "output_type": "stream",
          "text": [
            "1000/1000 [==============================] - 319s 319ms/step\n"
          ]
        },
        {
          "name": "stderr",
          "output_type": "stream",
          "text": [
            "INFO:pic2vec.image_featurizer:Featurized batch #121. Number of images left: 19590\n",
            "Estimated total time left: 6242 seconds\n",
            "\n",
            "INFO:pic2vec.image_featurizer:Loading image batch.\n",
            "INFO:pic2vec.image_featurizer:\n",
            "Featurizing image batch.\n"
          ]
        },
        {
          "name": "stdout",
          "output_type": "stream",
          "text": [
            "1000/1000 [==============================] - 319s 319ms/step\n"
          ]
        },
        {
          "name": "stderr",
          "output_type": "stream",
          "text": [
            "INFO:pic2vec.image_featurizer:Featurized batch #122. Number of images left: 18590\n",
            "Estimated total time left: 5777 seconds\n",
            "\n",
            "INFO:pic2vec.image_featurizer:Loading image batch.\n",
            "INFO:pic2vec.image_featurizer:\n",
            "Featurizing image batch.\n"
          ]
        },
        {
          "name": "stdout",
          "output_type": "stream",
          "text": [
            "1000/1000 [==============================] - 319s 319ms/step\n"
          ]
        },
        {
          "name": "stderr",
          "output_type": "stream",
          "text": [
            "INFO:pic2vec.image_featurizer:Featurized batch #123. Number of images left: 17590\n",
            "Estimated total time left: 5459 seconds\n",
            "\n",
            "INFO:pic2vec.image_featurizer:Loading image batch.\n",
            "INFO:pic2vec.image_featurizer:\n",
            "Featurizing image batch.\n"
          ]
        },
        {
          "name": "stdout",
          "output_type": "stream",
          "text": [
            "1000/1000 [==============================] - 319s 319ms/step\n"
          ]
        },
        {
          "name": "stderr",
          "output_type": "stream",
          "text": [
            "INFO:pic2vec.image_featurizer:Featurized batch #124. Number of images left: 16590\n",
            "Estimated total time left: 5146 seconds\n",
            "\n",
            "INFO:pic2vec.image_featurizer:Loading image batch.\n",
            "INFO:pic2vec.image_featurizer:\n",
            "Featurizing image batch.\n"
          ]
        },
        {
          "name": "stdout",
          "output_type": "stream",
          "text": [
            "1000/1000 [==============================] - 319s 319ms/step\n"
          ]
        },
        {
          "name": "stderr",
          "output_type": "stream",
          "text": [
            "INFO:pic2vec.image_featurizer:Featurized batch #125. Number of images left: 15590\n",
            "Estimated total time left: 4819 seconds\n",
            "\n",
            "INFO:pic2vec.image_featurizer:Loading image batch.\n",
            "INFO:pic2vec.image_featurizer:\n",
            "Featurizing image batch.\n"
          ]
        },
        {
          "name": "stdout",
          "output_type": "stream",
          "text": [
            "1000/1000 [==============================] - 320s 320ms/step\n"
          ]
        },
        {
          "name": "stderr",
          "output_type": "stream",
          "text": [
            "INFO:pic2vec.image_featurizer:Featurized batch #126. Number of images left: 14590\n",
            "Estimated total time left: 4544 seconds\n",
            "\n",
            "INFO:pic2vec.image_featurizer:Loading image batch.\n",
            "INFO:pic2vec.image_featurizer:\n",
            "Featurizing image batch.\n"
          ]
        },
        {
          "name": "stdout",
          "output_type": "stream",
          "text": [
            "1000/1000 [==============================] - 319s 319ms/step\n"
          ]
        },
        {
          "name": "stderr",
          "output_type": "stream",
          "text": [
            "INFO:pic2vec.image_featurizer:Featurized batch #127. Number of images left: 13590\n",
            "Estimated total time left: 4363 seconds\n",
            "\n",
            "INFO:pic2vec.image_featurizer:Loading image batch.\n",
            "INFO:pic2vec.image_featurizer:\n",
            "Featurizing image batch.\n"
          ]
        },
        {
          "name": "stdout",
          "output_type": "stream",
          "text": [
            "1000/1000 [==============================] - 321s 321ms/step\n"
          ]
        },
        {
          "name": "stderr",
          "output_type": "stream",
          "text": [
            "INFO:pic2vec.image_featurizer:Featurized batch #128. Number of images left: 12590\n",
            "Estimated total time left: 4079 seconds\n",
            "\n",
            "INFO:pic2vec.image_featurizer:Loading image batch.\n",
            "INFO:pic2vec.image_featurizer:\n",
            "Featurizing image batch.\n"
          ]
        },
        {
          "name": "stdout",
          "output_type": "stream",
          "text": [
            "1000/1000 [==============================] - 318s 318ms/step\n"
          ]
        },
        {
          "name": "stderr",
          "output_type": "stream",
          "text": [
            "INFO:pic2vec.image_featurizer:Featurized batch #129. Number of images left: 11590\n",
            "Estimated total time left: 3620 seconds\n",
            "\n",
            "INFO:pic2vec.image_featurizer:Loading image batch.\n",
            "INFO:pic2vec.image_featurizer:\n",
            "Featurizing image batch.\n"
          ]
        },
        {
          "name": "stdout",
          "output_type": "stream",
          "text": [
            "1000/1000 [==============================] - 319s 319ms/step\n"
          ]
        },
        {
          "name": "stderr",
          "output_type": "stream",
          "text": [
            "INFO:pic2vec.image_featurizer:Featurized batch #130. Number of images left: 10590\n",
            "Estimated total time left: 3258 seconds\n",
            "\n",
            "INFO:pic2vec.image_featurizer:Loading image batch.\n",
            "INFO:pic2vec.image_featurizer:\n",
            "Featurizing image batch.\n"
          ]
        },
        {
          "name": "stdout",
          "output_type": "stream",
          "text": [
            "1000/1000 [==============================] - 319s 319ms/step\n"
          ]
        },
        {
          "name": "stderr",
          "output_type": "stream",
          "text": [
            "INFO:pic2vec.image_featurizer:Featurized batch #131. Number of images left: 9590\n",
            "Estimated total time left: 2888 seconds\n",
            "\n",
            "INFO:pic2vec.image_featurizer:Loading image batch.\n",
            "INFO:pic2vec.image_featurizer:\n",
            "Featurizing image batch.\n"
          ]
        },
        {
          "name": "stdout",
          "output_type": "stream",
          "text": [
            "1000/1000 [==============================] - 318s 318ms/step\n"
          ]
        },
        {
          "name": "stderr",
          "output_type": "stream",
          "text": [
            "INFO:pic2vec.image_featurizer:Featurized batch #132. Number of images left: 8590\n",
            "Estimated total time left: 2560 seconds\n",
            "\n",
            "INFO:pic2vec.image_featurizer:Loading image batch.\n",
            "INFO:pic2vec.image_featurizer:\n",
            "Featurizing image batch.\n"
          ]
        },
        {
          "name": "stdout",
          "output_type": "stream",
          "text": [
            "1000/1000 [==============================] - 319s 319ms/step\n"
          ]
        },
        {
          "name": "stderr",
          "output_type": "stream",
          "text": [
            "INFO:pic2vec.image_featurizer:Featurized batch #133. Number of images left: 7590\n",
            "Estimated total time left: 2246 seconds\n",
            "\n",
            "INFO:pic2vec.image_featurizer:Loading image batch.\n",
            "INFO:pic2vec.image_featurizer:\n",
            "Featurizing image batch.\n"
          ]
        },
        {
          "name": "stdout",
          "output_type": "stream",
          "text": [
            "1000/1000 [==============================] - 319s 319ms/step\n"
          ]
        },
        {
          "name": "stderr",
          "output_type": "stream",
          "text": [
            "INFO:pic2vec.image_featurizer:Featurized batch #134. Number of images left: 6590\n",
            "Estimated total time left: 1926 seconds\n",
            "\n",
            "INFO:pic2vec.image_featurizer:Loading image batch.\n",
            "INFO:pic2vec.image_featurizer:\n",
            "Featurizing image batch.\n"
          ]
        },
        {
          "name": "stdout",
          "output_type": "stream",
          "text": [
            "1000/1000 [==============================] - 319s 319ms/step\n"
          ]
        },
        {
          "name": "stderr",
          "output_type": "stream",
          "text": [
            "INFO:pic2vec.image_featurizer:Featurized batch #135. Number of images left: 5590\n",
            "Estimated total time left: 1605 seconds\n",
            "\n",
            "INFO:pic2vec.image_featurizer:Loading image batch.\n",
            "INFO:pic2vec.image_featurizer:\n",
            "Featurizing image batch.\n"
          ]
        },
        {
          "name": "stdout",
          "output_type": "stream",
          "text": [
            "1000/1000 [==============================] - 320s 320ms/step\n"
          ]
        },
        {
          "name": "stderr",
          "output_type": "stream",
          "text": [
            "INFO:pic2vec.image_featurizer:Featurized batch #136. Number of images left: 4590\n",
            "Estimated total time left: 1290 seconds\n",
            "\n",
            "INFO:pic2vec.image_featurizer:Loading image batch.\n",
            "INFO:pic2vec.image_featurizer:\n",
            "Featurizing image batch.\n"
          ]
        },
        {
          "name": "stdout",
          "output_type": "stream",
          "text": [
            "1000/1000 [==============================] - 319s 319ms/step\n"
          ]
        },
        {
          "name": "stderr",
          "output_type": "stream",
          "text": [
            "INFO:pic2vec.image_featurizer:Featurized batch #137. Number of images left: 3590\n",
            "Estimated total time left: 975 seconds\n",
            "\n",
            "INFO:pic2vec.image_featurizer:Loading image batch.\n",
            "INFO:pic2vec.image_featurizer:\n",
            "Featurizing image batch.\n"
          ]
        },
        {
          "name": "stdout",
          "output_type": "stream",
          "text": [
            "1000/1000 [==============================] - 319s 319ms/step\n"
          ]
        },
        {
          "name": "stderr",
          "output_type": "stream",
          "text": [
            "INFO:pic2vec.image_featurizer:Featurized batch #138. Number of images left: 2590\n",
            "Estimated total time left: 676 seconds\n",
            "\n",
            "INFO:pic2vec.image_featurizer:Loading image batch.\n",
            "INFO:pic2vec.image_featurizer:\n",
            "Featurizing image batch.\n"
          ]
        },
        {
          "name": "stdout",
          "output_type": "stream",
          "text": [
            "1000/1000 [==============================] - 322s 322ms/step\n"
          ]
        },
        {
          "name": "stderr",
          "output_type": "stream",
          "text": [
            "INFO:pic2vec.image_featurizer:Featurized batch #139. Number of images left: 1590\n",
            "Estimated total time left: 338 seconds\n",
            "\n",
            "INFO:pic2vec.image_featurizer:Loading image batch.\n",
            "INFO:pic2vec.image_featurizer:\n",
            "Featurizing image batch.\n"
          ]
        },
        {
          "name": "stdout",
          "output_type": "stream",
          "text": [
            "1000/1000 [==============================] - 319s 319ms/step\n"
          ]
        },
        {
          "name": "stderr",
          "output_type": "stream",
          "text": [
            "INFO:pic2vec.image_featurizer:Featurized batch #140. Number of images left: 590\n",
            "Estimated total time left: 0 seconds\n",
            "\n",
            "INFO:pic2vec.image_featurizer:Loading image batch.\n",
            "INFO:pic2vec.image_featurizer:\n",
            "Featurizing image batch.\n"
          ]
        },
        {
          "name": "stdout",
          "output_type": "stream",
          "text": [
            "590/590 [==============================] - 188s 319ms/step\n"
          ]
        },
        {
          "name": "stderr",
          "output_type": "stream",
          "text": [
            "INFO:pic2vec.image_featurizer:Featurized batch #141. Number of images left: 0\n",
            "Estimated total time left: 0 seconds\n",
            "\n"
          ]
        }
      ],
      "source": [
        "from pic2vec import ImageFeaturizer\n",
        "all_images_dir = 'D://Big Data Project//data//augmented//'\n",
        "image_column_name = 'images'\n",
        "my_csv = 'data_aug.csv'\n",
        "my_featurizer = ImageFeaturizer(model='xception', depth=2, autosample=True)\n",
        "\n",
        "featurized_df = my_featurizer.featurize(image_column_name, csv_path=my_csv,\n",
        "                                        image_path=all_images_dir)"
      ]
    },
    {
      "cell_type": "code",
      "execution_count": null,
      "metadata": {
        "id": "5faWqgUnwJvy"
      },
      "outputs": [],
      "source": [
        "featurized_df = featurized_df.iloc[:,1:]\n",
        "featurized_df.to_csv('features_augmented.csv')"
      ]
    }
  ],
  "metadata": {
    "kernelspec": {
      "display_name": "Python 3",
      "language": "python",
      "name": "python3"
    },
    "language_info": {
      "codemirror_mode": {
        "name": "ipython",
        "version": 3
      },
      "file_extension": ".py",
      "mimetype": "text/x-python",
      "name": "python",
      "nbconvert_exporter": "python",
      "pygments_lexer": "ipython3",
      "version": "3.7.0 (v3.7.0:1bf9cc5093, Jun 27 2018, 04:59:51) [MSC v.1914 64 bit (AMD64)]"
    },
    "orig_nbformat": 4,
    "vscode": {
      "interpreter": {
        "hash": "d6678878fbd448458e248978b3bb6c813e1f0c4bad6fb9e74f30c81c886e2239"
      }
    },
    "colab": {
      "provenance": []
    }
  },
  "nbformat": 4,
  "nbformat_minor": 0
}